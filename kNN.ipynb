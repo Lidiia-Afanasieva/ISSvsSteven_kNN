{
  "cells": [
    {
      "cell_type": "markdown",
      "metadata": {
        "id": "view-in-github",
        "colab_type": "text"
      },
      "source": [
        "<a href=\"https://colab.research.google.com/github/Lidiia-Afanasieva/ISSvsSteven_kNN/blob/main/kNN.ipynb\" target=\"_parent\"><img src=\"https://colab.research.google.com/assets/colab-badge.svg\" alt=\"Open In Colab\"/></a>"
      ]
    },
    {
      "cell_type": "code",
      "source": [
        "from sklearn.datasets import fetch_openml, load_digits\n",
        "import numpy as np\n",
        "import pandas as pd \n",
        "import matplotlib.pyplot as plt\n",
        "import matplotlib\n",
        "import math"
      ],
      "metadata": {
        "id": "TR2oFMQieHIX"
      },
      "execution_count": 16,
      "outputs": []
    },
    {
      "cell_type": "code",
      "source": [
        "def Euclidean_distance(row1, row2):\n",
        "    distance = 0\n",
        "    for i in range(len(row1)-1):\n",
        "        distance += (row1[i] - row2[i])**2\n",
        "    return math.sqrt(distance)"
      ],
      "metadata": {
        "id": "wZpl2zemd2Tg"
      },
      "execution_count": 37,
      "outputs": []
    },
    {
      "cell_type": "code",
      "source": [
        "def Get_Neighbors(train, test_row, k):\n",
        " \n",
        "    distance = []\n",
        "    data = []\n",
        "    for i in train:\n",
        "        dist = Euclidean_distance(test_row, i)\n",
        "        distance.append(dist)\n",
        "        data.append(i)\n",
        "    distance = np.array(distance)\n",
        "    data = np.array(data)\n",
        "    #Finding the index in ascending order\n",
        "    index_dist = distance.argsort()\n",
        "    #Arranging data according to index\n",
        "    data = data[index_dist]\n",
        "    #slicing k value from number of data\n",
        "    neighbors = data[:k]\n",
        "\n",
        "    return neighbors"
      ],
      "metadata": {
        "id": "i6dq1SLRd293"
      },
      "execution_count": 38,
      "outputs": []
    },
    {
      "cell_type": "code",
      "source": [
        "def predict_classification(train, test_row, k):\n",
        "    Neighbors = Get_Neighbors(train, test_row, k)\n",
        "    Classes = []\n",
        "    for i in Neighbors:\n",
        "        Classes.append(i[-1])\n",
        "    prediction = max(Classes, key= Classes.count)\n",
        "    return prediction"
      ],
      "metadata": {
        "id": "kCqEKOuId26d"
      },
      "execution_count": 39,
      "outputs": []
    },
    {
      "cell_type": "code",
      "source": [
        "def accuracy(y_true, y_pred):\n",
        "    n_correct = 0\n",
        "    for i in range(len(y_true)):\n",
        "        if y_true[i] == y_pred[i]:\n",
        "            n_correct += 1\n",
        "    acc = n_correct/len(y_true)\n",
        "    return acc"
      ],
      "metadata": {
        "id": "or-7ygnvd24X"
      },
      "execution_count": 40,
      "outputs": []
    },
    {
      "cell_type": "code",
      "source": [
        "mnist = fetch_openml('mnist_784') #load_digits()"
      ],
      "metadata": {
        "id": "gTbgdThWd22W"
      },
      "execution_count": 30,
      "outputs": []
    },
    {
      "cell_type": "code",
      "source": [
        "# checking the column names and preprocessing target values in standard format\n",
        "mnist.keys()\n",
        "mnist.target = mnist.target.astype(np.int8)\n",
        "#Determining independent and dependent variable and finding the shape\n",
        "x = np.array(mnist.data)\n",
        "y = np.array(mnist.target)\n",
        "x.shape, y.shape\n",
        "#output ((70000, 784), (70000,))\n",
        "# shuffling the values of x and y\n",
        "si = np.random.permutation(x.shape[0])\n",
        "x = x[si][:20000]\n",
        "y = y[si][:20000]"
      ],
      "metadata": {
        "id": "69yGIBf7d20H"
      },
      "execution_count": 41,
      "outputs": []
    },
    {
      "cell_type": "code",
      "source": [
        "print(len(x))"
      ],
      "metadata": {
        "colab": {
          "base_uri": "https://localhost:8080/"
        },
        "id": "jC4D0omWbMOZ",
        "outputId": "1bea1a78-4051-4d51-c4cf-0ac0266ffa7d"
      },
      "execution_count": 35,
      "outputs": [
        {
          "output_type": "stream",
          "name": "stdout",
          "text": [
            "70000\n"
          ]
        }
      ]
    },
    {
      "cell_type": "code",
      "source": [
        "some_digit = x[12]\n",
        "some_digit_image = some_digit.reshape(28, 28)\n",
        "plt.imshow(some_digit_image, cmap=matplotlib.cm.binary)\n",
        "plt.axis('off')\n",
        "plt.show()"
      ],
      "metadata": {
        "id": "On63M_98d2xn",
        "colab": {
          "base_uri": "https://localhost:8080/",
          "height": 248
        },
        "outputId": "133dea13-4ee2-49ac-8773-5704ab94faad"
      },
      "execution_count": 42,
      "outputs": [
        {
          "output_type": "display_data",
          "data": {
            "text/plain": [
              "<Figure size 432x288 with 1 Axes>"
            ],
            "image/png": "[encoded data removed]"
          },
          "metadata": {
            "needs_background": "light"
          }
        }
      ]
    },
    {
      "cell_type": "code",
      "source": [
        "#slicing data\n",
        "trainx = x[:2000]\n",
        "trainy = y[:2000]\n",
        "#Inserting trainy in trainx\n",
        "train = np.insert(trainx, 784, trainy, axis = 1)\n",
        "prediction = predict_classification(train, train[1244], 4)\n",
        "prediction\n",
        "#Output 8.0"
      ],
      "metadata": {
        "id": "TMiWVjPSeQeW",
        "colab": {
          "base_uri": "https://localhost:8080/"
        },
        "outputId": "9cf7511f-ba64-48c1-e646-ffe39e2c4cec"
      },
      "execution_count": 43,
      "outputs": [
        {
          "output_type": "execute_result",
          "data": {
            "text/plain": [
              "3.0"
            ]
          },
          "metadata": {},
          "execution_count": 43
        }
      ]
    },
    {
      "cell_type": "code",
      "source": [
        "train[1244][-1]\n",
        "#output 8.0"
      ],
      "metadata": {
        "id": "WULrfLaIeQb5",
        "colab": {
          "base_uri": "https://localhost:8080/"
        },
        "outputId": "61b3d169-9b68-4dbf-e8ca-a256d2d09d2c"
      },
      "execution_count": 44,
      "outputs": [
        {
          "output_type": "execute_result",
          "data": {
            "text/plain": [
              "3.0"
            ]
          },
          "metadata": {},
          "execution_count": 44
        }
      ]
    },
    {
      "cell_type": "code",
      "source": [
        "#Plotting the output\n",
        "some_digit = train[1244][:-1]\n",
        "some_digit_image = some_digit.reshape(28, 28)\n",
        "plt.imshow(some_digit_image, cmap=matplotlib.cm.binary)\n",
        "plt.axis('off')\n",
        "plt.show()"
      ],
      "metadata": {
        "id": "XbPikEYXeQZf",
        "colab": {
          "base_uri": "https://localhost:8080/",
          "height": 248
        },
        "outputId": "9ddcdc36-c3e3-4f1f-cd71-c7b5dd8b9efc"
      },
      "execution_count": 45,
      "outputs": [
        {
          "output_type": "display_data",
          "data": {
            "text/plain": [
              "<Figure size 432x288 with 1 Axes>"
            ],
            "image/png": "[encoded data removed]"
          },
          "metadata": {
            "needs_background": "light"
          }
        }
      ]
    },
    {
      "cell_type": "code",
      "source": [
        "y_pred=[]\n",
        "y_true=train[:,-1]\n",
        "for i in range(len(train)):\n",
        "    prediction = predict_classification(train, train[i], 4)\n",
        "    y_pred.append(prediction)\n"
      ],
      "metadata": {
        "id": "lE2lPB-weQXI"
      },
      "execution_count": 46,
      "outputs": []
    },
    {
      "cell_type": "code",
      "source": [
        "print(len(y_true))\n",
        "print(len(y_pred))"
      ],
      "metadata": {
        "colab": {
          "base_uri": "https://localhost:8080/"
        },
        "id": "e7LIfuWCaADC",
        "outputId": "cc65cf4c-b6e0-4e6b-8016-0d9ddaee3c20"
      },
      "execution_count": 47,
      "outputs": [
        {
          "output_type": "stream",
          "name": "stdout",
          "text": [
            "2000\n",
            "2000\n"
          ]
        }
      ]
    },
    {
      "cell_type": "code",
      "source": [
        "# Accuracy\n",
        "accuracy(y_true, y_pred)\n",
        "# Output 0.929 (i.e., 92%)"
      ],
      "metadata": {
        "colab": {
          "base_uri": "https://localhost:8080/"
        },
        "id": "2gHmZhiZSwNR",
        "outputId": "7da6d71f-f4da-4fce-ac08-c3098c545342"
      },
      "execution_count": 48,
      "outputs": [
        {
          "output_type": "execute_result",
          "data": {
            "text/plain": [
              "0.9715"
            ]
          },
          "metadata": {},
          "execution_count": 48
        }
      ]
    },
    {
      "cell_type": "code",
      "source": [
        ""
      ],
      "metadata": {
        "id": "MQQHiHQPeQU1"
      },
      "execution_count": null,
      "outputs": []
    },
    {
      "cell_type": "code",
      "source": [
        ""
      ],
      "metadata": {
        "id": "PGnXNlJPeQSd"
      },
      "execution_count": null,
      "outputs": []
    }
  ],
  "metadata": {
    "colab": {
      "name": "kNN.ipynb",
      "provenance": [],
      "collapsed_sections": [],
      "authorship_tag": "ABX9TyOgRLvwfA2gl3QAsDEHKnqY",
      "include_colab_link": true
    },
    "kernelspec": {
      "display_name": "Python 3",
      "name": "python3"
    },
    "language_info": {
      "name": "python"
    }
  },
  "nbformat": 4,
  "nbformat_minor": 0
}